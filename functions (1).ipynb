{
  "nbformat": 4,
  "nbformat_minor": 0,
  "metadata": {
    "colab": {
      "provenance": []
    },
    "kernelspec": {
      "name": "python3",
      "display_name": "Python 3"
    },
    "language_info": {
      "name": "python"
    }
  },
  "cells": [
    {
      "cell_type": "markdown",
      "source": [
        "#1. Write a Python function that takes a list of numbers as input and returns the sum of all even numbers in the list."
      ],
      "metadata": {
        "id": "kRuZZQt0SwYY"
      }
    },
    {
      "cell_type": "code",
      "source": [
        "def sum_of_even_numbers(numbers):\n",
        "    # Use a list comprehension to filter even numbers and sum them\n",
        "    return sum(num for num in numbers if num % 2 == 0)\n",
        "\n",
        "# Example usage\n",
        "numbers = [1, 2, 3, 4, 5, 6, 7, 8]\n",
        "result = sum_of_even_numbers(numbers)\n",
        "print(f\"Sum of even numbers: {result}\")  # Output: 20\n"
      ],
      "metadata": {
        "colab": {
          "base_uri": "https://localhost:8080/"
        },
        "id": "GPFMsWR6S_Yc",
        "outputId": "2798ac2f-c824-41f3-f237-b7ce0a8f0ab3"
      },
      "execution_count": 1,
      "outputs": [
        {
          "output_type": "stream",
          "name": "stdout",
          "text": [
            "Sum of even numbers: 20\n"
          ]
        }
      ]
    },
    {
      "cell_type": "markdown",
      "source": [
        "#2. Create a Python function that accepts a string and returns the reverse of that string."
      ],
      "metadata": {
        "id": "SHRVx5fKTTF_"
      }
    },
    {
      "cell_type": "code",
      "source": [
        "def reverse_string(input_string):\n",
        "    # Use slicing to reverse the string\n",
        "    return input_string[::-1]\n",
        "\n",
        "# Example usage\n",
        "example = \"hello\"\n",
        "result = reverse_string(example)\n",
        "print(f\"Reversed string: {result}\")  # Output: \"olleh\"\n"
      ],
      "metadata": {
        "colab": {
          "base_uri": "https://localhost:8080/"
        },
        "id": "JY6fw98UTVcS",
        "outputId": "e0f91d38-3216-44fd-eb2d-c7e15c35adc9"
      },
      "execution_count": 2,
      "outputs": [
        {
          "output_type": "stream",
          "name": "stdout",
          "text": [
            "Reversed string: olleh\n"
          ]
        }
      ]
    },
    {
      "cell_type": "markdown",
      "source": [
        "#3.  Implement a Python function that takes a list of integers and returns a new list containing the squares of each number."
      ],
      "metadata": {
        "id": "YduGJyVITvAl"
      }
    },
    {
      "cell_type": "code",
      "source": [],
      "metadata": {
        "id": "Kq1jv9U1T0vg"
      },
      "execution_count": null,
      "outputs": []
    },
    {
      "cell_type": "code",
      "source": [
        "def square_numbers(numbers):\n",
        "    # Use a list comprehension to compute the squares\n",
        "    return [num ** 2 for num in numbers]\n",
        "\n",
        "# Example usage\n",
        "numbers = [1, 2, 3, 4, 5]\n",
        "result = square_numbers(numbers)\n",
        "print(f\"Squared numbers: {result}\")  # Output: [1, 4, 9, 16, 25]\n"
      ],
      "metadata": {
        "colab": {
          "base_uri": "https://localhost:8080/"
        },
        "id": "3J8uqdNAT2e1",
        "outputId": "6963b9ad-9e0f-4388-e5c6-d9308dc2dfb2"
      },
      "execution_count": 3,
      "outputs": [
        {
          "output_type": "stream",
          "name": "stdout",
          "text": [
            "Squared numbers: [1, 4, 9, 16, 25]\n"
          ]
        }
      ]
    },
    {
      "cell_type": "markdown",
      "source": [
        "#4.  Write a Python function that checks if a given number is prime or not from 1 to 200."
      ],
      "metadata": {
        "id": "lYeDhR8rT_eu"
      }
    },
    {
      "cell_type": "code",
      "source": [
        "def is_prime(number):\n",
        "    if number <= 1:\n",
        "        return False  # 0 and 1 are not prime numbers\n",
        "    for i in range(2, int(number ** 0.5) + 1):  # Check divisors up to sqrt(number)\n",
        "        if number % i == 0:\n",
        "            return False\n",
        "    return True\n",
        "\n",
        "def primes_up_to_200():\n",
        "    \"\"\"\n",
        "    Finds and returns all prime numbers from 1 to 200.\n",
        "\n",
        "    :return: List of prime numbers\n",
        "    \"\"\"\n",
        "    return [num for num in range(1, 201) if is_prime(num)]\n",
        "\n",
        "# Example usage\n",
        "prime_numbers = primes_up_to_200()\n",
        "print(f\"Prime numbers from 1 to 200: {prime_numbers}\")\n"
      ],
      "metadata": {
        "colab": {
          "base_uri": "https://localhost:8080/"
        },
        "id": "NNC5eCyFUDUl",
        "outputId": "67ca7d68-c3ff-4614-835d-1b9e60db3e2f"
      },
      "execution_count": 4,
      "outputs": [
        {
          "output_type": "stream",
          "name": "stdout",
          "text": [
            "Prime numbers from 1 to 200: [2, 3, 5, 7, 11, 13, 17, 19, 23, 29, 31, 37, 41, 43, 47, 53, 59, 61, 67, 71, 73, 79, 83, 89, 97, 101, 103, 107, 109, 113, 127, 131, 137, 139, 149, 151, 157, 163, 167, 173, 179, 181, 191, 193, 197, 199]\n"
          ]
        }
      ]
    },
    {
      "cell_type": "markdown",
      "source": [
        "#4.  Create an iterator class in Python that generates the Fibonacci sequence up to a specified number of terms."
      ],
      "metadata": {
        "id": "ile_-llwUTtZ"
      }
    },
    {
      "cell_type": "code",
      "source": [
        "class FibonacciIterator:\n",
        "    \"\"\"\n",
        "    Iterator class to generate Fibonacci sequence up to a specified number of terms.\n",
        "    \"\"\"\n",
        "    def __init__(self, n_terms):\n",
        "        \"\"\"\n",
        "        Initialize the iterator with the number of terms.\n",
        "\n",
        "        :param n_terms: Number of terms to generate\n",
        "        \"\"\"\n",
        "        self.n_terms = n_terms\n",
        "        self.current_term = 0\n",
        "        self.a, self.b = 0, 1  # First two terms of Fibonacci sequence\n",
        "\n",
        "    def __iter__(self):\n",
        "        return self\n",
        "\n",
        "    def __next__(self):\n",
        "        if self.current_term >= self.n_terms:\n",
        "            raise StopIteration  # Stop iteration when terms are exhausted\n",
        "        if self.current_term == 0:\n",
        "            self.current_term += 1\n",
        "            return self.a  # Return the first term\n",
        "        elif self.current_term == 1:\n",
        "            self.current_term += 1\n",
        "            return self.b  # Return the second term\n",
        "        else:\n",
        "            # Compute the next Fibonacci number\n",
        "            next_fib = self.a + self.b\n",
        "            self.a, self.b = self.b, next_fib\n",
        "            self.current_term += 1\n",
        "            return next_fib\n"
      ],
      "metadata": {
        "id": "1_wX6fbOUfkW"
      },
      "execution_count": 8,
      "outputs": []
    },
    {
      "cell_type": "markdown",
      "source": [
        "#6. Write a generator function in Python that yields the powers of 2 up to a given exponent."
      ],
      "metadata": {
        "id": "s1o-lkehUkpu"
      }
    },
    {
      "cell_type": "code",
      "source": [
        "def powers_of_two(max_exponent):\n",
        "    \"\"\"\n",
        "    Generator function that yields powers of 2 up to the given exponent.\n",
        "\n",
        "    :param max_exponent: The maximum exponent for 2^n\n",
        "    \"\"\"\n",
        "    for exponent in range(max_exponent + 1):\n",
        "        yield 2 ** exponent\n"
      ],
      "metadata": {
        "id": "Idw6gz6OUo9L"
      },
      "execution_count": 7,
      "outputs": []
    },
    {
      "cell_type": "markdown",
      "source": [
        "#7. Implement a generator function that reads a file line by line and yields each line as a string."
      ],
      "metadata": {
        "id": "G4VpTP2FUvhz"
      }
    },
    {
      "cell_type": "code",
      "source": [
        "def read_file_line_by_line(file_path):\n",
        "    \"\"\"\n",
        "    Generator function that reads a file line by line and yields each line.\n",
        "\n",
        "    :param file_path: Path to the file to read\n",
        "    \"\"\"\n",
        "    with open(file_path, 'r') as file:\n",
        "        for line in file:\n",
        "            yield line.strip()  # Use strip() to remove any leading/trailing whitespace"
      ],
      "metadata": {
        "id": "2NxuMOe9UzJJ"
      },
      "execution_count": 11,
      "outputs": []
    },
    {
      "cell_type": "markdown",
      "source": [
        "#8.  Use a lambda function in Python to sort a list of tuples based on the second element of each tuple.\n",
        "\n"
      ],
      "metadata": {
        "id": "BQz2IaqiU3Ws"
      }
    },
    {
      "cell_type": "code",
      "source": [
        "# List of tuples\n",
        "tuples_list = [(1, 3), (2, 1), (4, 2), (3, 5)]\n",
        "\n",
        "# Sort the list of tuples based on the second element of each tuple\n",
        "sorted_list = sorted(tuples_list, key=lambda x: x[1])\n",
        "\n",
        "print(sorted_list)\n"
      ],
      "metadata": {
        "colab": {
          "base_uri": "https://localhost:8080/"
        },
        "id": "qzzaRbG_ZOqU",
        "outputId": "c4013800-8b80-487a-ba05-73f8a0f777ae"
      },
      "execution_count": 12,
      "outputs": [
        {
          "output_type": "stream",
          "name": "stdout",
          "text": [
            "[(2, 1), (4, 2), (1, 3), (3, 5)]\n"
          ]
        }
      ]
    },
    {
      "cell_type": "markdown",
      "source": [
        "#9. Write a Python program that uses `map()` to convert a list of temperatures from Celsius to Fahrenheit."
      ],
      "metadata": {
        "id": "pt2P8uSlZr4u"
      }
    },
    {
      "cell_type": "code",
      "source": [
        "# List of temperatures in Celsius\n",
        "celsius_temps = [0, 20, 30, 40, 100]\n",
        "\n",
        "# Function to convert Celsius to Fahrenheit\n",
        "def celsius_to_fahrenheit(celsius):\n",
        "    return (celsius * 9/5) + 32\n",
        "\n",
        "# Use map() to apply the conversion function to each element in the list\n",
        "fahrenheit_temps = list(map(celsius_to_fahrenheit, celsius_temps))\n",
        "\n",
        "print(fahrenheit_temps)\n"
      ],
      "metadata": {
        "colab": {
          "base_uri": "https://localhost:8080/"
        },
        "id": "JzPwPeFJZv5S",
        "outputId": "890431ee-d24d-4c97-df81-9bf6c1804192"
      },
      "execution_count": 13,
      "outputs": [
        {
          "output_type": "stream",
          "name": "stdout",
          "text": [
            "[32.0, 68.0, 86.0, 104.0, 212.0]\n"
          ]
        }
      ]
    },
    {
      "cell_type": "markdown",
      "source": [
        "#10. Create a Python program that uses `filter()` to remove all the vowels from a given string."
      ],
      "metadata": {
        "id": "MqrPDRASZ05A"
      }
    },
    {
      "cell_type": "code",
      "source": [
        "# Function to check if a character is not a vowel\n",
        "def is_not_vowel(char):\n",
        "    vowels = 'aeiouAEIOU'\n",
        "    return char not in vowels\n",
        "\n",
        "# Given string\n",
        "input_string = \"Hello, World!\"\n",
        "\n",
        "# Use filter() to remove vowels\n",
        "filtered_string = ''.join(filter(is_not_vowel, input_string))\n",
        "\n",
        "print(filtered_string)\n"
      ],
      "metadata": {
        "colab": {
          "base_uri": "https://localhost:8080/"
        },
        "id": "pAXi6bbpaDa4",
        "outputId": "f3b556f1-eeb8-423b-a999-20b05972ef5e"
      },
      "execution_count": 14,
      "outputs": [
        {
          "output_type": "stream",
          "name": "stdout",
          "text": [
            "Hll, Wrld!\n"
          ]
        }
      ]
    }
  ]
}