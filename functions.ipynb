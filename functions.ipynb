{
  "nbformat": 4,
  "nbformat_minor": 0,
  "metadata": {
    "colab": {
      "provenance": []
    },
    "kernelspec": {
      "name": "python3",
      "display_name": "Python 3"
    },
    "language_info": {
      "name": "python"
    }
  },
  "cells": [
    {
      "cell_type": "markdown",
      "source": [
        "#1. What is the difference between a function and a method in Python?\n",
        "- Function:\n",
        "A function is a standalone block of code that can be defined using the def keyword. It can exist independently and can be called anywhere in the program.\n",
        "\n",
        "- Method:\n",
        "A method is a function that is associated with an object and is defined inside a class. It operates on the data (attributes) of the object and is called using the object (or instance) it belongs to.\n",
        "\n",
        "#2. Explain the concept of function arguments and parameters in Python.\n",
        "\n",
        "- Parameters vs. Arguments\n",
        "  - Parameters:\n",
        "These are the variables listed in a function's definition. They act as placeholders for the values that the function will receive.\n",
        "\n",
        "  - Arguments:\n",
        "These are the actual values passed to the function when it is called.\n",
        "\n",
        " - example:-\n"
      ],
      "metadata": {
        "id": "C80lV5aDjALa"
      }
    },
    {
      "cell_type": "code",
      "source": [
        "def greet(name):  # 'name' is a parameter\n",
        "    print(f\"Hello, {name}!\")\n",
        "\n",
        "greet(\"Alice\")  # \"Alice\" is an argument\n"
      ],
      "metadata": {
        "colab": {
          "base_uri": "https://localhost:8080/"
        },
        "id": "7NKnTaLdkOa9",
        "outputId": "d3b276f9-f3ae-4349-e46d-1fd380184f02"
      },
      "execution_count": 1,
      "outputs": [
        {
          "output_type": "stream",
          "name": "stdout",
          "text": [
            "Hello, Alice!\n"
          ]
        }
      ]
    },
    {
      "cell_type": "markdown",
      "source": [
        "  - name is the parameter defined in the function.\n",
        "  - \"Alice\" is the argument passed when the function is called.\n"
      ],
      "metadata": {
        "id": "t3_yuHxhka2s"
      }
    },
    {
      "cell_type": "markdown",
      "source": [
        "#3. Explain the concept of function arguments and parameters in Python.\n",
        "\n",
        "- Parameters vs. Arguments\n",
        "\n",
        "  - Parameters: These are the variables listed in a function's definition. They act as placeholders for the values that the function will receive.\n",
        "\n",
        "  - Arguments: These are the actual values passed to the function when it is called.\n",
        "\n",
        "  - example:-\n",
        "\n",
        "\n",
        "\n",
        "\n",
        "\n"
      ],
      "metadata": {
        "id": "Kf6NXgLRkmYD"
      }
    },
    {
      "cell_type": "code",
      "source": [
        "def greet(name):  # 'name' is a parameter\n",
        "    print(f\"Hello, {name}!\")\n",
        "\n",
        "greet(\"Alice\")  # \"Alice\" is an argument\n"
      ],
      "metadata": {
        "colab": {
          "base_uri": "https://localhost:8080/"
        },
        "id": "DXOD5-qvlgCU",
        "outputId": "648170f0-ac44-4995-d367-997694a4ac3d"
      },
      "execution_count": 3,
      "outputs": [
        {
          "output_type": "stream",
          "name": "stdout",
          "text": [
            "Hello, Alice!\n"
          ]
        }
      ]
    },
    {
      "cell_type": "markdown",
      "source": [
        "  - name is the parameter.\n",
        "  - \"Alice\" is the argument."
      ],
      "metadata": {
        "id": "hOdpEd-plk74"
      }
    },
    {
      "cell_type": "markdown",
      "source": [
        "#4. What is the purpose of the `return` statement in a Python function?\n",
        " - Key Purposes of the return Statement\n",
        "   - Return a Value\n",
        "The return statement allows a function to return a value as a result of its computation.\n",
        "\n",
        " - example:-"
      ],
      "metadata": {
        "id": "zbazTBbwlwdQ"
      }
    },
    {
      "cell_type": "code",
      "source": [
        "def add(a, b):\n",
        "    return a + b  # Return the sum of a and b\n",
        "\n",
        "result = add(3, 5)\n",
        "print(result)  # Output: 8\n"
      ],
      "metadata": {
        "colab": {
          "base_uri": "https://localhost:8080/"
        },
        "id": "fVWtjoNGmCx1",
        "outputId": "eda14400-6427-4ecf-b9c2-2ef13bbb4e01"
      },
      "execution_count": 5,
      "outputs": [
        {
          "output_type": "stream",
          "name": "stdout",
          "text": [
            "8\n"
          ]
        }
      ]
    },
    {
      "cell_type": "markdown",
      "source": [
        "  - The function add computes the sum of a and b and returns it.\n",
        "  - The returned value (8) is stored in the variable result."
      ],
      "metadata": {
        "id": "HkbSdieYmVc7"
      }
    },
    {
      "cell_type": "markdown",
      "source": [
        "#5. What are iterators in Python and how do they differ from iterables?\n",
        "- Iterable: An iterable is any Python object that can be iterated over (looped through) using a for loop or similar constructs. Iterables include collections like lists, tuples, dictionaries, sets, and strings.\n",
        "\n",
        " - Definition: An iterable is an object that implements the __iter__() method, which returns an iterator.\n",
        "  - Examples of iterables: Lists, strings, tuples, dictionaries, sets, etc.\n",
        "\n",
        "- Iterator: An iterator is an object that represents a stream of data. It is used to fetch one element at a time from an iterable. Iterators are created by calling the __iter__() method on an iterable, and they must also implement the __next__() method.\n",
        "\n",
        "  - Definition: An iterator is an object that implements:\n",
        " __iter__() → Returns the iterator object itself.\n",
        "__next__() → Returns the next value in the sequence or raises StopIteration when there are no more items.\n",
        "\n",
        "#6. Explain the concept of generators in Python and how they are defined.\n",
        "\n",
        "- In Python, generators are a special type of iterator that allow you to produce a sequence of values lazily (one value at a time) without storing the entire sequence in memory. Generators are particularly useful for working with large datasets or infinite streams of data where memory efficiency is important.\n",
        "\n",
        "- Generators in Python can be created in two main ways:\n",
        "\n",
        "  - Using the yield keyword in a function: A generator function is defined just like a normal function, but instead of using return to return a value, it uses the yield keyword. When yield is encountered, the function pauses execution and returns the yielded value. The state of the function is saved, so it can resume from where it left off when called again.\n",
        "  - Using generator expressions (similar to list comprehensions): Generator expressions provide a concise way to create generators, similar to list comprehensions but with parentheses () instead of square brackets [].\n",
        "\n",
        "#7. What are the advantages of using generators over regular functions?\n",
        "\n",
        "- Generators offer several advantages over regular functions, especially when dealing with large datasets or sequences. Below are the key benefits of using generators in Python:\n",
        "  -  Memory Efficiency\n",
        "Generators produce values one at a time as they are needed, instead of storing the entire sequence in memory. This makes them highly memory-efficient, especially for large datasets or infinite sequences.\n",
        "  - Lazy Evaluation\n",
        "Generators compute and return values on demand. They do not compute values until they are explicitly requested using next() or a loop. This allows efficient processing of large or infinite data streams.\n",
        "\n",
        " - Improved Performance\n",
        "Generators avoid the overhead of creating and storing large data structures (e.g., lists). Since values are generated one at a time, the program runs faster and consumes fewer resources.\n",
        "\n",
        " - Stateless Iteration\n",
        "Generators maintain their internal state between successive calls to next(). This makes them ideal for tasks like streaming data or reading files line by line.\n",
        "\n",
        " - Infinite Sequences\n",
        "Unlike lists, which are finite and stored in memory, generators can represent infinite sequences. This is useful for simulations, streaming data, or mathematical computations.\n",
        "\n",
        "#8. What is a lambda function in Python and when is it typically used?\n",
        "\n",
        "- A lambda function in Python is a small, anonymous function defined using the lambda keyword. Unlike regular functions defined with the def keyword, lambda functions are written in a single line and can have any number of arguments but only one expression.\n",
        "\n",
        "- Key Characteristics of Lambda Functions\n",
        "  - Anonymous: Lambda functions do not have a name unless assigned to a variable.\n",
        "  -Single Expression: They consist of a single expression, which is evaluated and returned.\n",
        "  -Concise: Useful for short, simple operations that can be written in a single line.\n",
        "  -Limited Scope: Typically used for short-lived purposes, such as arguments to higher-order functions.\n",
        "\n",
        "#9. Explain the purpose and usage of the `map()` function in Python.\n",
        "\n",
        "- The map() function in Python is a built-in function used to apply a specified function to each item in an iterable (e.g., list, tuple) and return a new iterable (a map object) containing the results.\n",
        "\n",
        "- Purpose of map():\n",
        "The map() function is particularly useful when you want to transform all elements of an iterable in a single operation without using explicit loops. It promotes clean, concise, and functional-style programming.\n",
        "\n",
        "- usage: examples"
      ],
      "metadata": {
        "id": "1f1D54m7mbeg"
      }
    },
    {
      "cell_type": "code",
      "source": [
        "# Function to double a number\n",
        "def double(x):\n",
        "    return x * 2\n",
        "\n",
        "numbers = [1, 2, 3, 4]\n",
        "\n",
        "# Apply the double function to each element\n",
        "result = map(double, numbers)\n",
        "\n",
        "# Convert the map object to a list\n",
        "print(list(result))  # Output: [2, 4, 6, 8]\n"
      ],
      "metadata": {
        "colab": {
          "base_uri": "https://localhost:8080/"
        },
        "id": "kYv1_4LnJxyQ",
        "outputId": "5dae4607-dc57-4b45-eba8-cbdf54d11c56"
      },
      "execution_count": 1,
      "outputs": [
        {
          "output_type": "stream",
          "name": "stdout",
          "text": [
            "[2, 4, 6, 8]\n"
          ]
        }
      ]
    },
    {
      "cell_type": "markdown",
      "source": [
        "#10. What is the difference between `map()`, `reduce()`, and `filter()` functions in Python?\n",
        "\n",
        "- The map(), reduce(), and filter() functions in Python are part of the functional programming paradigm. They operate on iterables, transforming, reducing, or filtering elements based on a given function. Here’s a detailed comparison of these three functions:\n",
        "  - 1. map()\n",
        "    - Purpose: Applies a given function to each element of an iterable and returns a new iterable (a map object) containing the transformed elements.\n",
        "\n",
        "    - Input: A function and one or more iterables.\n",
        "    - Output: An iterable with the same number of elements as the input iterable(s).\n",
        "\n",
        "  - 2. filter()\n",
        "    - Purpose: Filters elements of an iterable based on whether they satisfy a condition (the function must return True or False for each element).\n",
        "\n",
        "    - Input: A function (that returns True/False) and an iterable.\n",
        "    - Output: An iterable containing only the elements that satisfy the condition.\n",
        "\n",
        "  - 3. reduce()\n",
        "    - Purpose: Applies a rolling computation to reduce an iterable to a single cumulative value.\n",
        "\n",
        "    - Input: A function (that takes two arguments) and an iterable.\n",
        "    - Output: A single value resulting from the cumulative computation.\n",
        "#11. write the internal mechanism for sum operation using  reduce function on this given\n",
        "list:[47,11,42,13];\n",
        "\n",
        "-\n",
        "\n"
      ],
      "metadata": {
        "id": "41gvbGwKJ0C-"
      }
    },
    {
      "cell_type": "code",
      "source": [
        "from functools import reduce\n",
        "\n",
        "# List of numbers\n",
        "numbers = [47, 11, 42, 13]\n",
        "\n",
        "# Using reduce to calculate the sum\n",
        "result = reduce(lambda x, y: x + y, numbers)\n",
        "\n",
        "print(result)  # Output: 113\n"
      ],
      "metadata": {
        "colab": {
          "base_uri": "https://localhost:8080/"
        },
        "id": "528lqIi7Rrit",
        "outputId": "cd1f4169-6b77-43d7-be1c-262416c97d12"
      },
      "execution_count": 2,
      "outputs": [
        {
          "output_type": "stream",
          "name": "stdout",
          "text": [
            "113\n"
          ]
        }
      ]
    }
  ]
}