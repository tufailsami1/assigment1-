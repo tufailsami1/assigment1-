{
  "nbformat": 4,
  "nbformat_minor": 0,
  "metadata": {
    "colab": {
      "provenance": []
    },
    "kernelspec": {
      "name": "python3",
      "display_name": "Python 3"
    },
    "language_info": {
      "name": "python"
    }
  },
  "cells": [
    {
      "cell_type": "markdown",
      "source": [
        "#Practical Questions\n",
        "\n",
        "#1. Write a Python program to print \"Hello, World!"
      ],
      "metadata": {
        "id": "ae_SmRZM2gLx"
      }
    },
    {
      "cell_type": "code",
      "source": [
        "print(\"Hello, World!\")"
      ],
      "metadata": {
        "colab": {
          "base_uri": "https://localhost:8080/"
        },
        "id": "GpayKtJ_2ulQ",
        "outputId": "10e37b6f-ebd5-49c6-b258-1cb1fd78adb5"
      },
      "execution_count": 1,
      "outputs": [
        {
          "output_type": "stream",
          "name": "stdout",
          "text": [
            "Hello, World!\n"
          ]
        }
      ]
    },
    {
      "cell_type": "markdown",
      "source": [
        "#2. Write a Python program that displays your name and age."
      ],
      "metadata": {
        "id": "WvTpBTy13BCm"
      }
    },
    {
      "cell_type": "code",
      "source": [
        "name = \"Tufail Sami\"\n",
        "age = 22\n",
        "print(\"Name:\", name)\n",
        "print(\"Age:\", age)"
      ],
      "metadata": {
        "colab": {
          "base_uri": "https://localhost:8080/"
        },
        "id": "KmCzlKO_3dkt",
        "outputId": "612ac093-b0d3-4722-e282-255c82f244c5"
      },
      "execution_count": 3,
      "outputs": [
        {
          "output_type": "stream",
          "name": "stdout",
          "text": [
            "Name: Tufail Sami\n",
            "Age: 22\n"
          ]
        }
      ]
    },
    {
      "cell_type": "markdown",
      "source": [
        "#3. Write code to print all the pre-defined keywords in Python using the keyword library."
      ],
      "metadata": {
        "id": "bXDOM1RD3w8f"
      }
    },
    {
      "cell_type": "code",
      "source": [
        "import keyword\n",
        "print(\"Keywords:\", keyword.kwlist)\n"
      ],
      "metadata": {
        "colab": {
          "base_uri": "https://localhost:8080/"
        },
        "id": "1PTFhsAB33ZE",
        "outputId": "ab64bda0-cf4b-4e94-d000-8f0a5e816251"
      },
      "execution_count": 5,
      "outputs": [
        {
          "output_type": "stream",
          "name": "stdout",
          "text": [
            "Keywords: ['False', 'None', 'True', 'and', 'as', 'assert', 'async', 'await', 'break', 'class', 'continue', 'def', 'del', 'elif', 'else', 'except', 'finally', 'for', 'from', 'global', 'if', 'import', 'in', 'is', 'lambda', 'nonlocal', 'not', 'or', 'pass', 'raise', 'return', 'try', 'while', 'with', 'yield']\n"
          ]
        }
      ]
    },
    {
      "cell_type": "markdown",
      "source": [
        "#4. Write a program that checks if a given word is a Python keyword."
      ],
      "metadata": {
        "id": "TpLWKYgg6W9h"
      }
    },
    {
      "cell_type": "code",
      "source": [
        "import keyword\n",
        "def check_keyword(word):\n",
        "    if keyword.iskeyword(word):\n",
        "        print(f\"'{word}' is a Python keyword.\")\n",
        "    else:\n",
        "        print(f\"'{word}' is not a Python keyword.\")\n",
        "\n",
        "word = input(\"Enter a word: \")\n",
        "check_keyword(word)\n"
      ],
      "metadata": {
        "colab": {
          "base_uri": "https://localhost:8080/"
        },
        "id": "1zamKmQK6cCl",
        "outputId": "83df43b6-1878-43af-dd3c-ba106bd65bc0"
      },
      "execution_count": 12,
      "outputs": [
        {
          "output_type": "stream",
          "name": "stdout",
          "text": [
            "Enter a word: hello\n",
            "'hello' is not a Python keyword.\n"
          ]
        }
      ]
    },
    {
      "cell_type": "markdown",
      "source": [
        "#5. Create a list and tuple in Python, and demonstrate how attempting to change an element works differently for each."
      ],
      "metadata": {
        "id": "VHaTR9IS8hl8"
      }
    },
    {
      "cell_type": "code",
      "source": [
        "\n",
        "my_list = [10, 20, 30, 40]\n",
        "print(\"Original List:\", my_list)\n",
        "\n",
        "my_list[1] = 100\n",
        "print(\"Modified List:\", my_list)\n",
        "\n",
        "\n",
        "my_tuple = (10, 20, 30, 40)\n",
        "print(\"Original Tuple:\", my_tuple)\n",
        "\n",
        "\n",
        "my_tuple[1] = 100\n",
        "print(\"Modiefied Tuple:\", my_tuple)\n"
      ],
      "metadata": {
        "colab": {
          "base_uri": "https://localhost:8080/",
          "height": 245
        },
        "id": "9IJ52Wt5812J",
        "outputId": "cd046d7d-f8ac-4f26-a323-f70e5a0c32f1"
      },
      "execution_count": 1,
      "outputs": [
        {
          "output_type": "stream",
          "name": "stdout",
          "text": [
            "Original List: [10, 20, 30, 40]\n",
            "Modified List: [10, 100, 30, 40]\n",
            "Original Tuple: (10, 20, 30, 40)\n"
          ]
        },
        {
          "output_type": "error",
          "ename": "TypeError",
          "evalue": "'tuple' object does not support item assignment",
          "traceback": [
            "\u001b[0;31m---------------------------------------------------------------------------\u001b[0m",
            "\u001b[0;31mTypeError\u001b[0m                                 Traceback (most recent call last)",
            "\u001b[0;32m<ipython-input-1-972321789e13>\u001b[0m in \u001b[0;36m<cell line: 12>\u001b[0;34m()\u001b[0m\n\u001b[1;32m     10\u001b[0m \u001b[0;34m\u001b[0m\u001b[0m\n\u001b[1;32m     11\u001b[0m \u001b[0;34m\u001b[0m\u001b[0m\n\u001b[0;32m---> 12\u001b[0;31m \u001b[0mmy_tuple\u001b[0m\u001b[0;34m[\u001b[0m\u001b[0;36m1\u001b[0m\u001b[0;34m]\u001b[0m \u001b[0;34m=\u001b[0m \u001b[0;36m100\u001b[0m\u001b[0;34m\u001b[0m\u001b[0;34m\u001b[0m\u001b[0m\n\u001b[0m\u001b[1;32m     13\u001b[0m \u001b[0mprint\u001b[0m\u001b[0;34m(\u001b[0m\u001b[0;34m\"Modiefied Tuple:\"\u001b[0m\u001b[0;34m,\u001b[0m \u001b[0mmy_tuple\u001b[0m\u001b[0;34m)\u001b[0m\u001b[0;34m\u001b[0m\u001b[0;34m\u001b[0m\u001b[0m\n",
            "\u001b[0;31mTypeError\u001b[0m: 'tuple' object does not support item assignment"
          ]
        }
      ]
    },
    {
      "cell_type": "markdown",
      "source": [
        "#6. Write a function to demonstrate the behavior of mutable and immutable arguments."
      ],
      "metadata": {
        "id": "n4ix_L8DOcT5"
      }
    },
    {
      "cell_type": "code",
      "source": [
        "\n",
        "def modify_arguments(mutable_obj, immutable_obj):\n",
        "\n",
        "    mutable_obj.append(100)\n",
        "    print(\"Inside function (mutable object):\", mutable_obj)\n",
        "\n",
        "\n",
        "    immutable_obj += 10\n",
        "    print(\"Inside function (immutable object):\", immutable_obj)\n",
        "\n",
        "\n",
        "mutable_list = [1, 2, 3]\n",
        "immutable_number = 42\n",
        "\n",
        "\n",
        "print(\"Before function call:\")\n",
        "print(\"Mutable object:\", mutable_list)\n",
        "print(\"Immutable object:\", immutable_number)\n",
        "\n",
        "\n",
        "modify_arguments(mutable_list, immutable_number)\n",
        "\n",
        "\n",
        "print(\"\\nAfter function call:\")\n",
        "print(\"Mutable object:\", mutable_list)\n",
        "print(\"Immutable object:\", immutable_number)"
      ],
      "metadata": {
        "colab": {
          "base_uri": "https://localhost:8080/"
        },
        "id": "wqLHlXQpOgzr",
        "outputId": "e732bf99-ff09-454d-e029-91b39e2ee29c"
      },
      "execution_count": 2,
      "outputs": [
        {
          "output_type": "stream",
          "name": "stdout",
          "text": [
            "Before function call:\n",
            "Mutable object: [1, 2, 3]\n",
            "Immutable object: 42\n",
            "Inside function (mutable object): [1, 2, 3, 100]\n",
            "Inside function (immutable object): 52\n",
            "\n",
            "After function call:\n",
            "Mutable object: [1, 2, 3, 100]\n",
            "Immutable object: 42\n"
          ]
        }
      ]
    },
    {
      "cell_type": "markdown",
      "source": [
        "#7. Write a function to demonstrate the behavior of mutable and immutable arguments."
      ],
      "metadata": {
        "id": "ymTgd0VcO8VO"
      }
    },
    {
      "cell_type": "code",
      "source": [
        "# same as question 6 (repeated questions)"
      ],
      "metadata": {
        "id": "yal5Tp_oO-ed"
      },
      "execution_count": 5,
      "outputs": []
    },
    {
      "cell_type": "markdown",
      "source": [
        "#8. Write a program to demonstrate the use of logical operators."
      ],
      "metadata": {
        "id": "dtYWKUAIPr3N"
      }
    },
    {
      "cell_type": "code",
      "source": [
        "def logical_operators_demo():\n",
        "    x = 10\n",
        "    y = 20\n",
        "    z = 30\n",
        "\n",
        "\n",
        "    print(\"Demonstrating 'and' operator:\")\n",
        "    print(x < y and y < z)\n",
        "    print(x > y and y < z)\n",
        "\n",
        "    print(\"\\nDemonstrating 'or' operator:\")\n",
        "    print(x < y or y > z)\n",
        "    print(x > y or y > z)\n",
        "\n",
        "\n",
        "    print(\"\\nDemonstrating 'not' operator:\")\n",
        "    print(not (x < y))\n",
        "    print(not (x > y))\n",
        "\n",
        "logical_operators_demo()\n"
      ],
      "metadata": {
        "colab": {
          "base_uri": "https://localhost:8080/"
        },
        "id": "26AAeVhTPyUS",
        "outputId": "57356531-a08d-4d47-bccc-46bbe9989bce"
      },
      "execution_count": 6,
      "outputs": [
        {
          "output_type": "stream",
          "name": "stdout",
          "text": [
            "Demonstrating 'and' operator:\n",
            "True\n",
            "False\n",
            "\n",
            "Demonstrating 'or' operator:\n",
            "True\n",
            "False\n",
            "\n",
            "Demonstrating 'not' operator:\n",
            "False\n",
            "True\n"
          ]
        }
      ]
    },
    {
      "cell_type": "markdown",
      "source": [
        "#9. Write a Python program to convert user input from string to integer, float, and boolean types."
      ],
      "metadata": {
        "id": "zLqvkKZvQs2J"
      }
    },
    {
      "cell_type": "code",
      "source": [
        "user_input = input(\"Enter a value: \")\n",
        "\n",
        "try:\n",
        "    int_value = int(user_input)\n",
        "    print(f\"Integer conversion: {int_value}\")\n",
        "except ValueError:\n",
        "    print(\"Cannot convert to an integer.\")\n",
        "\n",
        "try:\n",
        "    float_value = float(user_input)\n",
        "    print(f\"Float conversion: {float_value}\")\n",
        "except ValueError:\n",
        "    print(\"Cannot convert to a float.\")\n",
        "\n",
        "bool_value = bool(user_input)\n",
        "print(f\"Boolean conversion: {bool_value}\")\n"
      ],
      "metadata": {
        "colab": {
          "base_uri": "https://localhost:8080/"
        },
        "id": "2Cgp00YxQvfK",
        "outputId": "34f28897-e034-4ca5-c210-34935db46211"
      },
      "execution_count": 8,
      "outputs": [
        {
          "output_type": "stream",
          "name": "stdout",
          "text": [
            "Enter a value: 88\n",
            "Integer conversion: 88\n",
            "Float conversion: 88.0\n",
            "Boolean conversion: True\n"
          ]
        }
      ]
    },
    {
      "cell_type": "markdown",
      "source": [
        "#10. Write code to demonstrate type casting with list elements."
      ],
      "metadata": {
        "id": "mqR5dCUpRQzo"
      }
    },
    {
      "cell_type": "code",
      "source": [
        "str_list = [\"10\", \"20.5\", \"True\", \"40\"]\n",
        "\n",
        "print(\"Original List (strings):\", str_list)\n",
        "\n",
        "int_list = []\n",
        "for item in str_list:\n",
        "    try:\n",
        "        int_list.append(int(float(item)))\n",
        "    except ValueError:\n",
        "        print(f\"Cannot convert '{item}' to an integer.\")\n",
        "\n",
        "print(\"Converted to Integers (if possible):\", int_list)\n",
        "\n",
        "float_list = []\n",
        "for item in str_list:\n",
        "    try:\n",
        "        float_list.append(float(item))\n",
        "    except ValueError:\n",
        "        print(f\"Cannot convert '{item}' to a float.\")\n",
        "\n",
        "print(\"Converted to Floats:\", float_list)\n",
        "\n",
        "bool_list = [bool(item) for item in str_list]\n",
        "print(\"Converted to Booleans:\", bool_list)\n"
      ],
      "metadata": {
        "colab": {
          "base_uri": "https://localhost:8080/"
        },
        "id": "zHpSb5XFRV3G",
        "outputId": "c71b8edf-d1c4-4e04-8a14-d9137bcd83c2"
      },
      "execution_count": 10,
      "outputs": [
        {
          "output_type": "stream",
          "name": "stdout",
          "text": [
            "Original List (strings): ['10', '20.5', 'True', '40']\n",
            "Cannot convert 'True' to an integer.\n",
            "Converted to Integers (if possible): [10, 20, 40]\n",
            "Cannot convert 'True' to a float.\n",
            "Converted to Floats: [10.0, 20.5, 40.0]\n",
            "Converted to Booleans: [True, True, True, True]\n"
          ]
        }
      ]
    },
    {
      "cell_type": "markdown",
      "source": [
        "#11. Write a program that checks if a number is positive, negative, or zero."
      ],
      "metadata": {
        "id": "AEYsPruDS6OV"
      }
    },
    {
      "cell_type": "code",
      "source": [
        "def check_number(num):\n",
        "    if num > 0:\n",
        "        print(f\"{num} is a positive number.\")\n",
        "    elif num < 0:\n",
        "        print(f\"{num} is a negative number.\")\n",
        "    else:\n",
        "        print(f\"{num} is zero.\")\n",
        "\n",
        "try:\n",
        "    number = float(input(\"Enter a number: \"))\n",
        "    check_number(number)\n",
        "except ValueError:\n",
        "    print(\"Invalid input! Please enter a numeric value.\")\n"
      ],
      "metadata": {
        "colab": {
          "base_uri": "https://localhost:8080/"
        },
        "id": "o8kTpT2YS_vi",
        "outputId": "53c43ba0-dd51-4a4b-ce24-225d02216975"
      },
      "execution_count": 14,
      "outputs": [
        {
          "output_type": "stream",
          "name": "stdout",
          "text": [
            "Enter a number: -56\n",
            "-56.0 is a negative number.\n"
          ]
        }
      ]
    },
    {
      "cell_type": "markdown",
      "source": [
        "#12.  Write a for loop to print numbers from 1 to 10."
      ],
      "metadata": {
        "id": "f0be6xcLTpqO"
      }
    },
    {
      "cell_type": "code",
      "source": [
        "for number in range(1, 11):\n",
        "    print(number)\n"
      ],
      "metadata": {
        "colab": {
          "base_uri": "https://localhost:8080/"
        },
        "id": "9e5oIRSCT4-7",
        "outputId": "2d76cdff-6993-4ddd-b935-756ab31e4ace"
      },
      "execution_count": 15,
      "outputs": [
        {
          "output_type": "stream",
          "name": "stdout",
          "text": [
            "1\n",
            "2\n",
            "3\n",
            "4\n",
            "5\n",
            "6\n",
            "7\n",
            "8\n",
            "9\n",
            "10\n"
          ]
        }
      ]
    },
    {
      "cell_type": "markdown",
      "source": [
        "#13. Write a Python program to find the sum of all even numbers between 1 and 50."
      ],
      "metadata": {
        "id": "YZPR6y8iT-4N"
      }
    },
    {
      "cell_type": "code",
      "source": [
        "sum_of_evens = 0\n",
        "\n",
        "for number in range(1, 51):\n",
        "    if number % 2 == 0:\n",
        "        sum_of_evens += number\n",
        "print(f\"The sum of all even numbers between 1 and 50 is: {sum_of_evens}\")\n"
      ],
      "metadata": {
        "colab": {
          "base_uri": "https://localhost:8080/"
        },
        "id": "cuVDTQSXUD9G",
        "outputId": "eaf30633-2bb9-455a-aae9-c47115080def"
      },
      "execution_count": 16,
      "outputs": [
        {
          "output_type": "stream",
          "name": "stdout",
          "text": [
            "The sum of all even numbers between 1 and 50 is: 650\n"
          ]
        }
      ]
    },
    {
      "cell_type": "markdown",
      "source": [
        "#14. Write a program to reverse a string using a while loop."
      ],
      "metadata": {
        "id": "nByGOe-JUaVh"
      }
    },
    {
      "cell_type": "code",
      "source": [
        "original_string = input(\"Enter a string: \")\n",
        "\n",
        "reversed_string = \"\"\n",
        "index = len(original_string) - 1\n",
        "\n",
        "while index >= 0:\n",
        "    reversed_string += original_string[index]\n",
        "    index -= 1\n",
        "\n",
        "print(\"Reversed string:\", reversed_string)\n"
      ],
      "metadata": {
        "colab": {
          "base_uri": "https://localhost:8080/"
        },
        "id": "3i78CRXyUfAM",
        "outputId": "a69169d0-77f6-4a79-d566-14212e848038"
      },
      "execution_count": 18,
      "outputs": [
        {
          "output_type": "stream",
          "name": "stdout",
          "text": [
            "Enter a string: 69\n",
            "Reversed string: 96\n"
          ]
        }
      ]
    },
    {
      "cell_type": "markdown",
      "source": [
        "#15.  Write a Python program to calculate the factorial of a number provided by the user using a while loop."
      ],
      "metadata": {
        "id": "9t-HIHdBVBCs"
      }
    },
    {
      "cell_type": "code",
      "source": [
        "number = int(input(\"Enter a positive integer to calculate its factorial: \"))\n",
        "\n",
        "factorial = 1\n",
        "counter = number\n",
        "\n",
        "if number < 0:\n",
        "    print(\"Factorial is not defined for negative numbers.\")\n",
        "elif number == 0:\n",
        "    print(\"The factorial of 0 is 1.\")\n",
        "else:\n",
        "    while counter > 0:\n",
        "        factorial *= counter\n",
        "        counter -= 1\n",
        "\n",
        "    print(f\"The factorial of {number} is {factorial}.\")\n"
      ],
      "metadata": {
        "colab": {
          "base_uri": "https://localhost:8080/"
        },
        "id": "r_gUbhpiVECK",
        "outputId": "f85eb731-0b11-4732-f7bb-203616f25ad2"
      },
      "execution_count": 22,
      "outputs": [
        {
          "output_type": "stream",
          "name": "stdout",
          "text": [
            "Enter a positive integer to calculate its factorial: 4\n",
            "The factorial of 4 is 24.\n"
          ]
        }
      ]
    }
  ]
}